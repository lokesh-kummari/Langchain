{
 "cells": [
  {
   "cell_type": "markdown",
   "metadata": {},
   "source": [
    "# pydentic\n"
   ]
  },
  {
   "cell_type": "code",
   "execution_count": 1,
   "metadata": {},
   "outputs": [],
   "source": [
    "from pydantic import BaseModel, Field"
   ]
  },
  {
   "cell_type": "code",
   "execution_count": 2,
   "metadata": {},
   "outputs": [
    {
     "name": "stdout",
     "output_type": "stream",
     "text": [
      "name='John' age=30\n"
     ]
    }
   ],
   "source": [
    "class Person(BaseModel):\n",
    "    name: str = Field(description=\"The name of the person\")\n",
    "    age: int = Field(description=\"The age of the person\")\n",
    "\n",
    "person = Person(name=\"John\", age=30)\n",
    "print(person)\n"
   ]
  },
  {
   "cell_type": "markdown",
   "metadata": {},
   "source": [
    "## 2. Model with Optional Feilds\n",
    "Add optional feilds using pythons optional type:"
   ]
  },
  {
   "cell_type": "code",
   "execution_count": 3,
   "metadata": {},
   "outputs": [
    {
     "name": "stdout",
     "output_type": "stream",
     "text": [
      "name='John' salary=50000\n"
     ]
    }
   ],
   "source": [
    "from typing import Optional\n",
    "\n",
    "\n",
    "class Employee(BaseModel):\n",
    "    name: str\n",
    "    salary: Optional[int] = None\n",
    "\n",
    "employee = Employee(name=\"John\", salary=50000)\n",
    "print(employee)\n"
   ]
  },
  {
   "cell_type": "code",
   "execution_count": 5,
   "metadata": {},
   "outputs": [
    {
     "name": "stdout",
     "output_type": "stream",
     "text": [
      "name='Lokesh' salary=None\n"
     ]
    }
   ],
   "source": [
    "emp2=Employee(name=\"Lokesh\")\n",
    "print(emp2)"
   ]
  },
  {
   "cell_type": "code",
   "execution_count": 6,
   "metadata": {},
   "outputs": [
    {
     "name": "stdout",
     "output_type": "stream",
     "text": [
      "students=[Person(name='John', age=30), Person(name='Jane', age=25)]\n"
     ]
    }
   ],
   "source": [
    "from pydantic import BaseModel, Field\n",
    "from typing import List\n",
    "\n",
    "class classroom(BaseModel):\n",
    "    students: List[Person]\n",
    "\n",
    "classroom = classroom(students=[Person(name=\"John\", age=30), Person(name=\"Jane\", age=25)])\n",
    "print(classroom)\n",
    "\n"
   ]
  },
  {
   "cell_type": "code",
   "execution_count": 7,
   "metadata": {},
   "outputs": [
    {
     "name": "stdout",
     "output_type": "stream",
     "text": [
      "'classroom' object is not callable\n"
     ]
    }
   ],
   "source": [
    "try:\n",
    "    classroom = classroom(students=[Person(name=\"John\", age=30), Person(name=\"Jane\", age=25)])\n",
    "    print(classroom)\n",
    "except Exception as e:\n",
    "    print(e)\n",
    "\n"
   ]
  },
  {
   "cell_type": "markdown",
   "metadata": {},
   "source": [
    "## Model with Nested Models"
   ]
  },
  {
   "cell_type": "code",
   "execution_count": 8,
   "metadata": {},
   "outputs": [
    {
     "name": "stdout",
     "output_type": "stream",
     "text": [
      "name='John' address=Address(street='123 Main St', city='Anytown', state='CA', zip='12345')\n"
     ]
    }
   ],
   "source": [
    "from pydantic import BaseModel\n",
    "\n",
    "class Address(BaseModel):\n",
    "    street: str\n",
    "    city: str\n",
    "    state: str\n",
    "    zip: str\n",
    "\n",
    "class Customer(BaseModel):\n",
    "    name: str\n",
    "    address: Address\n",
    "\n",
    "customer = Customer(name=\"John\", address=Address(street=\"123 Main St\", city=\"Anytown\", state=\"CA\", zip=\"12345\"))\n",
    "print(customer)\n",
    "    "
   ]
  },
  {
   "cell_type": "code",
   "execution_count": 9,
   "metadata": {},
   "outputs": [
    {
     "name": "stdout",
     "output_type": "stream",
     "text": [
      "id=1 name='John' email='john@example.com'\n"
     ]
    }
   ],
   "source": [
    "from pydantic import BaseModel, Field\n",
    "\n",
    "class User(BaseModel):\n",
    "    id: int = Field(description=\"The unique identifier of the user\")\n",
    "    name: str = Field(description=\"The name of the user\")\n",
    "    email: str = Field(description=\"The email of the user\")\n",
    "    \n",
    "user = User(id=1, name=\"John\", email=\"john@example.com\")\n",
    "print(user)\n",
    "\n",
    "\n",
    "\n",
    "\n"
   ]
  },
  {
   "cell_type": "code",
   "execution_count": null,
   "metadata": {},
   "outputs": [],
   "source": []
  }
 ],
 "metadata": {
  "kernelspec": {
   "display_name": "tf-metal",
   "language": "python",
   "name": "python3"
  },
  "language_info": {
   "codemirror_mode": {
    "name": "ipython",
    "version": 3
   },
   "file_extension": ".py",
   "mimetype": "text/x-python",
   "name": "python",
   "nbconvert_exporter": "python",
   "pygments_lexer": "ipython3",
   "version": "3.10.14"
  }
 },
 "nbformat": 4,
 "nbformat_minor": 2
}
